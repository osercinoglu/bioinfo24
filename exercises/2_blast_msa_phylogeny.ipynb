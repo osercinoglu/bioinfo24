{
 "cells": [
  {
   "cell_type": "markdown",
   "metadata": {},
   "source": [
    "**Last modified on**: 13/11/2024\n",
    "\n",
    "**Author**: Onur Serçinoğlu\n",
    "\n",
    "**Credits**:\n",
    "\n",
    "This jupyter notebook is a minimally-modified version of the one prepared by Prof. Ian Simpson for the Bioinformatics I course taught at University of Edinburgh (**https://github.com/tisimpson/bioinformatics1/blob/main/labs/notebooks/bio1_week4_lab2.ipynb**)"
   ]
  },
  {
   "cell_type": "markdown",
   "metadata": {},
   "source": [
    "### Note"
   ]
  },
  {
   "cell_type": "markdown",
   "metadata": {},
   "source": [
    "muscle MSA program is required.\n",
    "\n",
    "You can do this either by installing from conda:\n",
    "\n",
    "`conda install -c bioconda muscle`\n",
    "\n",
    "and the calling it from the terminal directly with `muscle`\n",
    "\n",
    "or download an executable binary from the tool's repository at\n",
    "\n",
    "https://github.com/rcedgar/muscle/releases\n",
    "\n",
    "The latter option is used below in this notebook."
   ]
  },
  {
   "cell_type": "markdown",
   "metadata": {},
   "source": [
    "# BLAST, MSA, and Phylogenetic Trees using Biopython"
   ]
  },
  {
   "cell_type": "code",
   "execution_count": null,
   "metadata": {},
   "outputs": [],
   "source": [
    "from Bio import Entrez\n",
    "from Bio.Blast import NCBIXML\n",
    "from Bio.Blast import NCBIWWW\n",
    "from Bio import SeqIO\n",
    "from Bio.Seq import Seq\n",
    "from Bio.SeqRecord import SeqRecord\n",
    "from Bio.Align.Applications import MuscleCommandline\n",
    "from Bio import AlignIO\n",
    "from Bio.Align import AlignInfo\n",
    "from matplotlib import pyplot as plt"
   ]
  },
  {
   "cell_type": "markdown",
   "metadata": {},
   "source": [
    "## Perform a BLAST Query"
   ]
  },
  {
   "cell_type": "code",
   "execution_count": null,
   "metadata": {},
   "outputs": [],
   "source": [
    "Entrez.email = 'osercinoglu@gtu.edu.tr'\n",
    "\n",
    "# beta-globin, human\n",
    "my_protein = 'NP_000509.1' \n",
    "\n",
    "handle = Entrez.efetch(db=\"protein\", id=my_protein, rettype=\"gb\", retmode=\"text\")\n",
    "record = SeqIO.read(handle, \"genbank\")\n",
    "handle.close()\n",
    "\n",
    "# show the sequence record\n",
    "print(record)"
   ]
  },
  {
   "cell_type": "code",
   "execution_count": null,
   "metadata": {},
   "outputs": [],
   "source": [
    "result_handle = NCBIWWW.qblast('blastp', 'swissprot', record.seq)\n",
    "# This may take some time to run\n",
    "\n",
    "# parse the results\n",
    "result_handle.seek(0)\n",
    "blast_record = NCBIXML.read(result_handle)"
   ]
  },
  {
   "cell_type": "code",
   "execution_count": null,
   "metadata": {},
   "outputs": [],
   "source": [
    "#print out the key information for the hits\n",
    "\n",
    "print('Gene name\\te-value\\tscore')\n",
    "for a in blast_record.alignments:\n",
    "    print(a.title.split('|')[2].split('Full=')[1].split(';')[0]+'\\t'+str(a.hsps[0].expect)+'\\t'+str( a.hsps[0].score))"
   ]
  },
  {
   "cell_type": "code",
   "execution_count": null,
   "metadata": {},
   "outputs": [],
   "source": [
    "# show the species and alignment scores\n",
    "a=blast_record.alignments[0]\n",
    "sp_ids = []\n",
    "for a in blast_record.alignments:\n",
    "    sp_ids.append(a.title.split('|')[1])\n",
    "# print(\",\".join(sp_ids))\n",
    "handle = Entrez.efetch(db=\"protein\", id=\",\".join(sp_ids), retmode=\"xml\")#, rettype='gb')\n",
    "data = Entrez.read(handle)\n",
    "species = []\n",
    "print('Alignment score\\tSpecies')\n",
    "for i,d in enumerate(data):\n",
    "    species.append(d['GBSeq_source'])\n",
    "    print(str(blast_record.alignments[i].hsps[0].score)+'\\t'+d['GBSeq_source'])"
   ]
  },
  {
   "cell_type": "markdown",
   "metadata": {},
   "source": [
    "## Select sequences for MSA"
   ]
  },
  {
   "cell_type": "code",
   "execution_count": null,
   "metadata": {},
   "outputs": [],
   "source": [
    "E_VALUE_THRESH = 1e-6\n",
    "\n",
    "for i,alignment in enumerate(blast_record.alignments):\n",
    "    for hsp in alignment.hsps:\n",
    "        if hsp.expect < E_VALUE_THRESH:\n",
    "            print('****Alignment****')\n",
    "            print('sequence: ', alignment.title)\n",
    "            print('species: '+species[i])\n",
    "            print('length: ', alignment.length)\n",
    "            print('e value: ', hsp.expect)\n",
    "            print(hsp.query[0:75] + '...')\n",
    "            print(hsp.sbjct[0:75] + '...')\n",
    "            print(hsp.match[0:75] + '...')"
   ]
  },
  {
   "cell_type": "code",
   "execution_count": null,
   "metadata": {},
   "outputs": [],
   "source": [
    "# now work with all results with e-value below this value:\n",
    "E_VALUE_THRESH = 1e-6\n",
    "\n",
    "# the following will write all results into a FASTA file for the MSA \n",
    "\n",
    "def get_seqrecs(alignments, threshold):\n",
    "    # a little helper function to get the sequence records\n",
    "    for i,aln in enumerate(alignments):\n",
    "        for hsp in aln.hsps:\n",
    "            if hsp.expect < threshold:\n",
    "                id = species[i]\n",
    "                # id = aln.title.split('|')[1].split(' ')[0].split('_')[0]+'_'+species[i].replace(' ','_')\n",
    "                print(id)\n",
    "                yield SeqRecord(Seq(hsp.sbjct), id=id,description=str(aln.title.split('|')[1]))\n",
    "                break\n",
    " \n",
    "best_seqs = get_seqrecs(blast_record.alignments, E_VALUE_THRESH)\n",
    "# write out to a fasta file\n",
    "SeqIO.write(best_seqs, 'blast_selected_globins.fa', 'fasta')"
   ]
  },
  {
   "cell_type": "code",
   "execution_count": null,
   "metadata": {},
   "outputs": [],
   "source": [
    "import os\n",
    "\n",
    "# run Muscle MSA\n",
    "cmdLine = '/home/onur/software/muscle-linux-x86.v5.3 -align blast_selected_globins.fa -output blast_selected_globins_alignment.aln'\n",
    "os.popen(cmdLine)"
   ]
  },
  {
   "cell_type": "code",
   "execution_count": null,
   "metadata": {},
   "outputs": [],
   "source": [
    "#read in and then print out alignment\n",
    "alignment = AlignIO.read('blast_selected_globins_alignment.aln','fasta')\n",
    "\n",
    "# a small correct in alignment object.\n",
    "for s in alignment:\n",
    "    s.id = s.description\n",
    "    s.name = s.description\n",
    "    \n",
    "print(alignment)"
   ]
  },
  {
   "cell_type": "code",
   "execution_count": null,
   "metadata": {},
   "outputs": [],
   "source": [
    "summary_align = AlignInfo.SummaryInfo(alignment)\n",
    "\n",
    "# compute a consensus sequence by taking the most frequent letter\n",
    "# positions below a thresold similarity are shown as 'X'\n",
    "\n",
    "# the threshold can be adjusted by adding e.g. threshold=0.5\n",
    "\n",
    "print('Consensus sequence without gaps:')\n",
    "print(summary_align.dumb_consensus())\n",
    "print('Consensus sequence with gaps:')\n",
    "print(summary_align.gap_consensus())"
   ]
  },
  {
   "cell_type": "markdown",
   "metadata": {},
   "source": [
    "## Construct a simple phylogenetic tree"
   ]
  },
  {
   "cell_type": "code",
   "execution_count": null,
   "metadata": {},
   "outputs": [],
   "source": [
    "from Bio.Phylo.TreeConstruction import DistanceCalculator\n",
    "#from TreeConstruction import DistanceCalculator\n",
    "calculator = DistanceCalculator('pam250')\n",
    "dm = calculator.get_distance(alignment)\n",
    "print(dm)"
   ]
  },
  {
   "cell_type": "code",
   "execution_count": null,
   "metadata": {},
   "outputs": [],
   "source": [
    "from Bio.Phylo.TreeConstruction import DistanceTreeConstructor\n",
    "#from TreeConstruction import DistanceTreeConstructor\n",
    "# here supply the keyword upgma or nj\n",
    "# compare the trees you get from both methods\n",
    "constructor = DistanceTreeConstructor(calculator, 'upgma')\n",
    "tree = constructor.build_tree(alignment)\n",
    "print(tree)"
   ]
  },
  {
   "cell_type": "code",
   "execution_count": null,
   "metadata": {},
   "outputs": [],
   "source": [
    "from Bio import Phylo\n",
    "# now draw the tree, try out these three methods:\n",
    "Phylo.draw_ascii(tree)"
   ]
  },
  {
   "cell_type": "code",
   "execution_count": null,
   "metadata": {},
   "outputs": [],
   "source": [
    "# or a nicer looking one\n",
    "plt.figure(figsize=(12,12))\n",
    "ax=plt.subplot(111)\n",
    "Phylo.draw(tree,axes=ax)"
   ]
  },
  {
   "cell_type": "code",
   "execution_count": null,
   "metadata": {},
   "outputs": [],
   "source": []
  }
 ],
 "metadata": {
  "kernelspec": {
   "display_name": "Python 3 (ipykernel)",
   "language": "python",
   "name": "python3"
  },
  "language_info": {
   "codemirror_mode": {
    "name": "ipython",
    "version": 3
   },
   "file_extension": ".py",
   "mimetype": "text/x-python",
   "name": "python",
   "nbconvert_exporter": "python",
   "pygments_lexer": "ipython3",
   "version": "3.9.19"
  }
 },
 "nbformat": 4,
 "nbformat_minor": 4
}
